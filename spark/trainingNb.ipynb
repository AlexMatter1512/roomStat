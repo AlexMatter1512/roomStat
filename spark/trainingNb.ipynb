{
 "cells": [
  {
   "cell_type": "markdown",
   "metadata": {},
   "source": [
    "**Import Stuff**"
   ]
  },
  {
   "cell_type": "code",
   "execution_count": 1,
   "metadata": {},
   "outputs": [],
   "source": [
    "from pyspark.sql import SparkSession\n",
    "from pyspark.sql.functions import col\n",
    "from pyspark.ml.feature import VectorAssembler\n",
    "from pyspark.ml.classification import LogisticRegression\n",
    "from pyspark.ml.evaluation import BinaryClassificationEvaluator"
   ]
  },
  {
   "cell_type": "markdown",
   "metadata": {},
   "source": [
    "**Initialize Spark Session**"
   ]
  },
  {
   "cell_type": "code",
   "execution_count": 2,
   "metadata": {},
   "outputs": [
    {
     "name": "stderr",
     "output_type": "stream",
     "text": [
      "24/06/13 09:37:26 WARN Utils: Your hostname, MacBook-Pro-di-Alessio.local resolves to a loopback address: 127.0.0.1; using 192.168.68.110 instead (on interface en0)\n",
      "24/06/13 09:37:26 WARN Utils: Set SPARK_LOCAL_IP if you need to bind to another address\n",
      "Setting default log level to \"WARN\".\n",
      "To adjust logging level use sc.setLogLevel(newLevel). For SparkR, use setLogLevel(newLevel).\n",
      "24/06/13 09:37:27 WARN NativeCodeLoader: Unable to load native-hadoop library for your platform... using builtin-java classes where applicable\n"
     ]
    }
   ],
   "source": [
    "spark = SparkSession.builder \\\n",
    "        .appName(\"Logistic Regression Example\") \\\n",
    "        .getOrCreate()"
   ]
  },
  {
   "cell_type": "markdown",
   "metadata": {},
   "source": [
    "**read the input data**\n",
    "\n",
    "The input data has this format:\n",
    "| Light | Temperature | Humidity | Comfortable |\n",
    "|---------|---------|---------|------------|\n",
    "| 0 -> 4096 | Degrees C| Percentage | Boolean |"
   ]
  },
  {
   "cell_type": "code",
   "execution_count": 3,
   "metadata": {},
   "outputs": [
    {
     "name": "stdout",
     "output_type": "stream",
     "text": [
      "+-----+-----------+--------+-----------+\n",
      "|light|temperature|humidity|comfortable|\n",
      "+-----+-----------+--------+-----------+\n",
      "|   49|      29.55|    48.3|          1|\n",
      "|   48|      29.54|    48.3|          1|\n",
      "|   48|      29.55|    48.3|          1|\n",
      "|   47|      29.55|    48.3|          1|\n",
      "|   47|      29.54|    48.3|          1|\n",
      "+-----+-----------+--------+-----------+\n",
      "only showing top 5 rows\n",
      "\n"
     ]
    }
   ],
   "source": [
    "data = spark.read.csv('python/training.csv', header=True, inferSchema=True)\n",
    "data.show(5)"
   ]
  },
  {
   "cell_type": "code",
   "execution_count": 4,
   "metadata": {},
   "outputs": [
    {
     "name": "stdout",
     "output_type": "stream",
     "text": [
      "+-----+-----------+--------+-----------+\n",
      "|light|temperature|humidity|comfortable|\n",
      "+-----+-----------+--------+-----------+\n",
      "|    4|      29.51|   49.52|          0|\n",
      "|    4|      29.52|   49.74|          0|\n",
      "|    4|      29.52|   49.94|          0|\n",
      "|    4|      29.54|   50.17|          0|\n",
      "|    1|      29.54|   50.41|          0|\n",
      "+-----+-----------+--------+-----------+\n",
      "only showing top 5 rows\n",
      "\n"
     ]
    }
   ],
   "source": [
    "#rows with comfortable set to 0\n",
    "data.filter(col('comfortable') == 0).show(5)"
   ]
  },
  {
   "cell_type": "markdown",
   "metadata": {},
   "source": [
    "**Let's assemble features into a single vector**"
   ]
  },
  {
   "cell_type": "code",
   "execution_count": 5,
   "metadata": {},
   "outputs": [
    {
     "name": "stdout",
     "output_type": "stream",
     "text": [
      "+-----------------+-----+\n",
      "|         features|label|\n",
      "+-----------------+-----+\n",
      "|[49.0,29.55,48.3]|    1|\n",
      "|[48.0,29.54,48.3]|    1|\n",
      "|[48.0,29.55,48.3]|    1|\n",
      "|[47.0,29.55,48.3]|    1|\n",
      "|[47.0,29.54,48.3]|    1|\n",
      "+-----------------+-----+\n",
      "only showing top 5 rows\n",
      "\n"
     ]
    }
   ],
   "source": [
    "assembler = VectorAssembler(inputCols=['light', 'temperature', 'humidity'],outputCol='features')\n",
    "assembled_data = assembler.transform(data).select(col('features'), col('comfortable').alias('label'))\n",
    "assembled_data.show(5)"
   ]
  },
  {
   "cell_type": "markdown",
   "metadata": {},
   "source": [
    "**Split the data into training and test data**"
   ]
  },
  {
   "cell_type": "code",
   "execution_count": 7,
   "metadata": {},
   "outputs": [
    {
     "name": "stdout",
     "output_type": "stream",
     "text": [
      "+-----------------+-----+\n",
      "|         features|label|\n",
      "+-----------------+-----+\n",
      "|[0.0,29.54,50.06]|    0|\n",
      "|[0.0,29.54,50.06]|    0|\n",
      "|[0.0,29.55,50.42]|    0|\n",
      "|[0.0,29.55,50.82]|    0|\n",
      "|[0.0,29.55,50.82]|    0|\n",
      "+-----------------+-----+\n",
      "only showing top 5 rows\n",
      "\n",
      "+-----------------+-----+\n",
      "|         features|label|\n",
      "+-----------------+-----+\n",
      "|[0.0,29.55,50.42]|    0|\n",
      "|[0.0,29.55,51.27]|    0|\n",
      "|[0.0,29.55,51.76]|    0|\n",
      "|[0.0,29.55,51.76]|    0|\n",
      "|[0.0,29.56,52.77]|    0|\n",
      "+-----------------+-----+\n",
      "only showing top 5 rows\n",
      "\n"
     ]
    }
   ],
   "source": [
    "train_data, test_data = assembled_data.randomSplit([0.7, 0.3], seed=42)\n",
    "train_data.show(5)\n",
    "test_data.show(5)"
   ]
  },
  {
   "cell_type": "markdown",
   "metadata": {},
   "source": [
    "Create a Logistic Regression model"
   ]
  },
  {
   "cell_type": "code",
   "execution_count": 8,
   "metadata": {},
   "outputs": [
    {
     "name": "stderr",
     "output_type": "stream",
     "text": [
      "24/06/13 09:41:07 WARN InstanceBuilder: Failed to load implementation from:dev.ludovic.netlib.blas.JNIBLAS\n",
      "24/06/13 09:41:07 WARN InstanceBuilder: Failed to load implementation from:dev.ludovic.netlib.blas.VectorBLAS\n"
     ]
    },
    {
     "name": "stdout",
     "output_type": "stream",
     "text": [
      "+-----------------+-----+--------------------+--------------------+----------+\n",
      "|         features|label|       rawPrediction|         probability|prediction|\n",
      "+-----------------+-----+--------------------+--------------------+----------+\n",
      "|[0.0,29.55,50.42]|    0|[1.17169673564049...|[0.76345157172274...|       0.0|\n",
      "|[0.0,29.55,51.27]|    0|[1.36789000277732...|[0.79703903786043...|       0.0|\n",
      "|[0.0,29.55,51.76]|    0|[1.48098965089147...|[0.81472201509312...|       0.0|\n",
      "|[0.0,29.55,51.76]|    0|[1.48098965089147...|[0.81472201509312...|       0.0|\n",
      "|[0.0,29.56,52.77]|    0|[1.75545278502775...|[0.85263923846211...|       0.0|\n",
      "+-----------------+-----+--------------------+--------------------+----------+\n",
      "only showing top 5 rows\n",
      "\n"
     ]
    }
   ],
   "source": [
    "lr = LogisticRegression(featuresCol='features', labelCol='label')\n",
    "lr_model = lr.fit(train_data)\n",
    "test_results = lr_model.transform(test_data)\n",
    "test_results.show(5)"
   ]
  },
  {
   "cell_type": "markdown",
   "metadata": {},
   "source": [
    "**Evaluate the model using the test data**"
   ]
  },
  {
   "cell_type": "code",
   "execution_count": 9,
   "metadata": {},
   "outputs": [
    {
     "name": "stdout",
     "output_type": "stream",
     "text": [
      "Accuracy: 0.9761326296923228\n"
     ]
    }
   ],
   "source": [
    "test_results = lr_model.transform(test_data)\n",
    "evaluator = BinaryClassificationEvaluator(rawPredictionCol='rawPrediction', labelCol='label')\n",
    "accuracy = evaluator.evaluate(test_results)\n",
    "print('Accuracy:', accuracy)"
   ]
  },
  {
   "cell_type": "markdown",
   "metadata": {},
   "source": [
    "**True positive, true negative, false positive, false negative**"
   ]
  },
  {
   "cell_type": "code",
   "execution_count": 10,
   "metadata": {},
   "outputs": [
    {
     "name": "stdout",
     "output_type": "stream",
     "text": [
      "+-----+----------+-----+\n",
      "|label|prediction|count|\n",
      "+-----+----------+-----+\n",
      "|    1|       0.0|   28|\n",
      "|    0|       0.0|  572|\n",
      "|    1|       1.0|  304|\n",
      "|    0|       1.0|   33|\n",
      "+-----+----------+-----+\n",
      "\n"
     ]
    }
   ],
   "source": [
    "test_results.groupBy('label', 'prediction').count().show()"
   ]
  },
  {
   "cell_type": "markdown",
   "metadata": {},
   "source": [
    "**if accuracy is higer than 0.5, the model is good so we can save it**"
   ]
  },
  {
   "cell_type": "code",
   "execution_count": 11,
   "metadata": {},
   "outputs": [
    {
     "name": "stdout",
     "output_type": "stream",
     "text": [
      "Model saved\n"
     ]
    }
   ],
   "source": [
    "if accuracy > 0.5:\n",
    "    #lr_model.save('python/lr_model')\n",
    "    print('Model saved')\n",
    "\n",
    "spark.stop()"
   ]
  }
 ],
 "metadata": {
  "kernelspec": {
   "display_name": ".venv",
   "language": "python",
   "name": "python3"
  },
  "language_info": {
   "codemirror_mode": {
    "name": "ipython",
    "version": 3
   },
   "file_extension": ".py",
   "mimetype": "text/x-python",
   "name": "python",
   "nbconvert_exporter": "python",
   "pygments_lexer": "ipython3",
   "version": "3.9.6"
  }
 },
 "nbformat": 4,
 "nbformat_minor": 2
}
